{
  "nbformat": 4,
  "nbformat_minor": 0,
  "metadata": {
    "colab": {
      "provenance": [],
      "authorship_tag": "ABX9TyMWl5Cn3DUnukLNEnZ7JG9g",
      "include_colab_link": true
    },
    "kernelspec": {
      "name": "python3",
      "display_name": "Python 3"
    },
    "language_info": {
      "name": "python"
    }
  },
  "cells": [
    {
      "cell_type": "markdown",
      "metadata": {
        "id": "view-in-github",
        "colab_type": "text"
      },
      "source": [
        "<a href=\"https://colab.research.google.com/github/scoobiii/bixby/blob/main/bixby.ipynb\" target=\"_parent\"><img src=\"https://colab.research.google.com/assets/colab-badge.svg\" alt=\"Open In Colab\"/></a>"
      ]
    },
    {
      "cell_type": "markdown",
      "source": [
        "\n",
        "Bem-vindos ao episódio número 1 do podcast Bixby, patrocinado pela Zeh Delivery! Neste episódio, temos os convidados Mussum e Zacarias como nossos convidados especiais.\n",
        "Antes de iniciarmos o episódio, vamos instalar e importar as bibliotecas necessárias para criar o nosso podcast:"
      ],
      "metadata": {
        "id": "bAnxGCHK-Orj"
      }
    },
    {
      "cell_type": "code",
      "source": [
        "\n",
        "!pip install wisper-api\n",
        "!pip install chatgpt"
      ],
      "metadata": {
        "colab": {
          "base_uri": "https://localhost:8080/"
        },
        "id": "-aUtm_XR-JJ8",
        "outputId": "678ea2f4-e11e-4881-d8a6-f5e29ba8f5f3"
      },
      "execution_count": null,
      "outputs": [
        {
          "output_type": "stream",
          "name": "stdout",
          "text": [
            "Looking in indexes: https://pypi.org/simple, https://us-python.pkg.dev/colab-wheels/public/simple/\n",
            "\u001b[31mERROR: Could not find a version that satisfies the requirement wisper-api (from versions: none)\u001b[0m\n",
            "\u001b[31mERROR: No matching distribution found for wisper-api\u001b[0m\n",
            "Looking in indexes: https://pypi.org/simple, https://us-python.pkg.dev/colab-wheels/public/simple/\n",
            "Collecting chatgpt\n",
            "  Downloading chatgpt-2.2212.0-py3-none-any.whl (24 kB)\n",
            "Collecting rich\n",
            "  Downloading rich-12.6.0-py3-none-any.whl (237 kB)\n",
            "\u001b[K     |████████████████████████████████| 237 kB 11.0 MB/s \n",
            "\u001b[?25hCollecting tls-client\n",
            "  Downloading tls_client-0.1.6-py3-none-any.whl (30.1 MB)\n",
            "\u001b[K     |████████████████████████████████| 30.1 MB 1.5 MB/s \n",
            "\u001b[?25hRequirement already satisfied: pygments<3.0.0,>=2.6.0 in /usr/local/lib/python3.8/dist-packages (from rich->chatgpt) (2.6.1)\n",
            "Requirement already satisfied: typing-extensions<5.0,>=4.0.0 in /usr/local/lib/python3.8/dist-packages (from rich->chatgpt) (4.4.0)\n",
            "Collecting commonmark<0.10.0,>=0.9.0\n",
            "  Downloading commonmark-0.9.1-py2.py3-none-any.whl (51 kB)\n",
            "\u001b[K     |████████████████████████████████| 51 kB 7.4 MB/s \n",
            "\u001b[?25hInstalling collected packages: commonmark, tls-client, rich, chatgpt\n",
            "Successfully installed chatgpt-2.2212.0 commonmark-0.9.1 rich-12.6.0 tls-client-0.1.6\n"
          ]
        }
      ]
    },
    {
      "cell_type": "markdown",
      "source": [
        "Agora, vamos criar os nossos convidados Mussum e Zacarias:"
      ],
      "metadata": {
        "id": "ZybZ5d32-duN"
      }
    },
    {
      "cell_type": "code",
      "execution_count": null,
      "metadata": {
        "id": "FZobNvVL7GdB"
      },
      "outputs": [],
      "source": [
        "mussum = \"Mussum\"\n",
        "zacarias = \"Zacarias\""
      ]
    },
    {
      "cell_type": "markdown",
      "source": [
        "Com os nossos convidados criados, vamos montar o nosso podcast Bixby:"
      ],
      "metadata": {
        "id": "HDHYJ8XZ-92a"
      }
    },
    {
      "cell_type": "code",
      "source": [
        "podcast = Podcast(\"Bixby\", mussum, zacarias)"
      ],
      "metadata": {
        "id": "RkoiqZrJ_BJ7"
      },
      "execution_count": null,
      "outputs": []
    },
    {
      "cell_type": "markdown",
      "source": [
        "Agora, vamos colocar Mussum e Zacarias para contarem uma piada cada um na estreia do episódio número 1:"
      ],
      "metadata": {
        "id": "tBDiQVuV_gx-"
      }
    },
    {
      "cell_type": "code",
      "source": [
        "mussum.contar_piada(\"Por que o coelho atravessou a rua? Para chegar no bar do outro lado!\")\n",
        "zacarias.contar_piada(\"O que o porco disse para a porca quando a viu usando óculos? Você tá uma porca com óculos!\")"
      ],
      "metadata": {
        "id": "3uaMmINs_h_D"
      },
      "execution_count": null,
      "outputs": []
    },
    {
      "cell_type": "markdown",
      "source": [
        "Agora que terminamos a primeira parte do nosso episódio, vamos criar um merchandising aleatório das cervejas Inbev. Para isso, vamos instalar e chamar as chaves e APIs do OpenSea e do MidJourney:"
      ],
      "metadata": {
        "id": "q9VLGwCL_7Za"
      }
    },
    {
      "cell_type": "code",
      "source": [
        "\n",
        "!pip install opensea-sdk\n",
        "!pip install midjourney\n",
        "\n",
        "opensea_key = \"SUA_CHAVE_OPENSEA\"\n",
        "midjourney_key = \"SUA_CHAVE_MIDJOURNEY\"\n",
        "\n",
        "opensea = opensea.Client(opensea_key)\n",
        "midjourney = midjourney.Client(midjourney_key)"
      ],
      "metadata": {
        "id": "MAZ7FlHJ__4F"
      },
      "execution_count": null,
      "outputs": []
    },
    {
      "cell_type": "markdown",
      "source": [
        "Agora, vamos criar os nossos NFTs de canecas promocionais de cada produto:"
      ],
      "metadata": {
        "id": "zPcWGGhqAKrK"
      }
    },
    {
      "cell_type": "code",
      "source": [
        "\n",
        "produtos = [\"Skol\", \"Brahma\", \"Antarctica\"]\n",
        "\n",
        "for produto in produtos:\n",
        "  caneca_promocional = midjourney.criar_caneca(produto)\n",
        "  nft = opensea.criar_nft(caneca_promocional)\n",
        "  opensea.vender_nft(nft)"
      ],
      "metadata": {
        "id": "FxNcodG7BEQs"
      },
      "execution_count": null,
      "outputs": []
    },
    {
      "cell_type": "markdown",
      "source": [
        "Por fim, vamos criar um briefing, roteiro e campanha para divulgar nossos produtos nas principais redes sociais:"
      ],
      "metadata": {
        "id": "EypPrgwQBTvf"
      }
    },
    {
      "cell_type": "code",
      "source": [
        "briefing = \"Promover o lançamento de nossos NFTs de canecas promocionais \n",
        "das cervejas Inbev através \n",
        "de uma campanha de \n",
        "marketing nas redes sociais.\""
      ],
      "metadata": {
        "id": "kLiiSEo5BwbJ"
      },
      "execution_count": null,
      "outputs": []
    },
    {
      "cell_type": "markdown",
      "source": [
        "\n",
        "MANTER O FOCO!!!!\n",
        "\n",
        "\n",
        "\n",
        "Codigo google colab comentado, novo pod cast bixby no metaverso,  primeiro episodio de uma hora, cria os apresentadores zeh e adoni, cria o convidado malik afehbua designer e fundador da slickcity, criador do primeiro desfile de moda etaria de pretos idosos elegantes e autoafirmativos, publicado na revista vogue, o desiner sop soppi que, inspirado em malik criou desfile com crianças pretas com moda de design inovador, tambem no metaverso , outro convidado é gabriel cruz, diretor do museu afrobrasileiro presente para convidar e entrevistar , malik , sop soppi acertando deyalhes para  realizar desfile no metaverso e no brasil no museu afro brasileiro, onde todos convidados usarão roupas e acessorios desenvolvidos por malik e sop soppi, produxidas com residuos e roupas usadas preta, branca pela franquia @poplixo, de propriedade de zeh, adoni e habriel. Criar os apresentadores e convidsdos, ale apresenta convidados, zeh faz merchang @spresentarvnfirmar, adoni começa apresentando  o programa e os participantes, zeh apresenta os anunciantes Meta, oculos rv e @poplixo, gabriel, zeh e ale, intercalam perguntas aos convidados entre uma cerveja puro malte  e jack daniels do patrocinador zeh delivery e inbev a maior e melhor industria de benidas do planeta.\n",
        "4 / 4\n",
        "\n",
        "\n",
        "Bem-vindos ao primeiro episódio do nosso novo podcast, \"Bixby no Metaverso\"! Sou Zeh e estou aqui com meus colegas apresentadores, Adoni e Ale.\n",
        "\n",
        "Hoje, temos alguns convidados muito especiais para compartilhar conosco suas experiências e inspirações. Primeiramente, temos Malik Afehbua, o fundador da Slickcity e criador do primeiro desfile de moda para idosos pretos elegantes e autoafirmativos, publicado na revista Vogue. Também temos Sop Soppi, um designer que foi inspirado por Malik para criar um desfile com crianças pretas usando moda de design inovador.\n",
        "\n",
        "\n",
        "Além disso, contamos com a presença de Gabriel Cruz, diretor do Museu Afro-Brasileiro, que nos convidou para realizarmos o próximo desfile no Metaverso e no próprio museu, com roupas e acessórios desenvolvidos por Malik e Sop Soppi, produzidos a partir de resíduos e roupas usadas. Essas peças são produzidas pela franquia @poplixo, de propriedade de Zeh, Adoni e Gabriel.\n",
        "\n",
        "\n",
        "Durante o programa, Ale apresentará os convidados e Zeh fará a apresentação dos anunciantes Meta, Oculos RV e @poplixo. Adoni começará apresentando o programa e os participantes, e Zeh apresentará os patrocinadores, Zeh Delivery e Inbev, a maior e melhor indústria de bebidas do planeta.\n",
        "\n",
        "\n",
        "Zeh, Adoni e Gabriel intercalarão perguntas aos convidados enquanto tomam uma cerveja puro malte e Jack Daniel's, oferecidos pelos patrocinadores.\n",
        "Esperamos que vocês aproveitem esse episódio e fiquem ligados para mais conteúdo incrível no \"Bixby no Metaverso\"!"
      ],
      "metadata": {
        "id": "-m4id9AHBagc"
      }
    },
    {
      "cell_type": "code",
      "source": [],
      "metadata": {
        "id": "qNR1mevv54pi"
      },
      "execution_count": null,
      "outputs": []
    }
  ]
}